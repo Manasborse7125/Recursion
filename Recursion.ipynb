{
 "cells": [
  {
   "cell_type": "markdown",
   "id": "1a66231e-1018-4b30-bedc-e0fd708acc66",
   "metadata": {},
   "source": [
    "# Recursion in python "
   ]
  },
  {
   "cell_type": "code",
   "execution_count": 7,
   "id": "3ed87028-6e98-47ac-a375-dd9905c0d0a2",
   "metadata": {},
   "outputs": [
    {
     "name": "stdin",
     "output_type": "stream",
     "text": [
      "Enter Number to be cal :  7\n"
     ]
    },
    {
     "name": "stdout",
     "output_type": "stream",
     "text": [
      "The Factorail is :  5040\n"
     ]
    }
   ],
   "source": [
    "def fact(a):\n",
    "    if (a==1 or a==0):\n",
    "        return 1\n",
    "    else:\n",
    "        return a*fact(a-1)\n",
    "a=int(input(\"Enter Number to be cal : \"))\n",
    "print(\"The Factorail is : \",fact(a))"
   ]
  },
  {
   "cell_type": "code",
   "execution_count": 1,
   "id": "c8227554-494d-41a0-8759-cfacb88b13a9",
   "metadata": {},
   "outputs": [
    {
     "name": "stdin",
     "output_type": "stream",
     "text": [
      "Enter Number :  7\n"
     ]
    },
    {
     "name": "stdout",
     "output_type": "stream",
     "text": [
      "The series is:  0 1 1 2 3 5 8 "
     ]
    }
   ],
   "source": [
    "def fino(n):\n",
    "    if (n==1):\n",
    "        return 1\n",
    "    elif(n==0):\n",
    "        return 0\n",
    "    else:\n",
    "        return fino(n-1)+fino(n-2)\n",
    "n=int(input(\"Enter Number : \"))\n",
    "print(\"The series is: \", end=\" \")\n",
    "for i in range(n):\n",
    "    print(fino(i), end=\" \")"
   ]
  },
  {
   "cell_type": "code",
   "execution_count": null,
   "id": "8fa3417d-c07d-489a-9553-afccf8b86b10",
   "metadata": {},
   "outputs": [],
   "source": []
  },
  {
   "cell_type": "code",
   "execution_count": null,
   "id": "9a8a3be8-c08a-4888-abec-58fc9e00c3d1",
   "metadata": {},
   "outputs": [],
   "source": []
  }
 ],
 "metadata": {
  "kernelspec": {
   "display_name": "Python 3 (ipykernel)",
   "language": "python",
   "name": "python3"
  },
  "language_info": {
   "codemirror_mode": {
    "name": "ipython",
    "version": 3
   },
   "file_extension": ".py",
   "mimetype": "text/x-python",
   "name": "python",
   "nbconvert_exporter": "python",
   "pygments_lexer": "ipython3",
   "version": "3.12.4"
  }
 },
 "nbformat": 4,
 "nbformat_minor": 5
}
